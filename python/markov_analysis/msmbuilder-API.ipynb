{
 "cells": [
  {
   "cell_type": "markdown",
   "metadata": {},
   "source": [
    "# Apply msmbuilder API to WT ff14SB cTN"
   ]
  },
  {
   "cell_type": "markdown",
   "metadata": {},
   "source": [
    "MD datasets are usually quite large. It doesn't make sense to load everything into memory at once. The `dataset` object lazily-loads trajectories as they are needed. Below, we create a dataset out of all the trajectories we have at the moment."
   ]
  },
  {
   "cell_type": "code",
   "execution_count": 1,
   "metadata": {
    "collapsed": false
   },
   "outputs": [],
   "source": [
    "from msmbuilder.dataset import dataset\n",
    "import numpy as np\n",
    "import os\n",
    "from mdtraj.utils import timing\n",
    "from msmbuilder.featurizer import DihedralFeaturizer\n",
    "import seaborn as sns; sns.set_style(\"white\"); sns.set_palette(\"Blues\")"
   ]
  },
  {
   "cell_type": "code",
   "execution_count": 2,
   "metadata": {
    "collapsed": false
   },
   "outputs": [
    {
     "name": "stdout",
     "output_type": "stream",
     "text": [
      "Loading data as dataset object: 0.210 seconds\n"
     ]
    }
   ],
   "source": [
    "with timing(\"Loading data as dataset object\"):\n",
    "    wt_xyz = dataset(\"/Users/je714/wt_data/*/05*nc\", topology=\"/Users/je714/wt_data/test.pdb\")"
   ]
  },
  {
   "cell_type": "code",
   "execution_count": 3,
   "metadata": {
    "collapsed": false
   },
   "outputs": [
    {
     "name": "stdout",
     "output_type": "stream",
     "text": [
      "Loading data as dataset object: 0.201 seconds\n"
     ]
    }
   ],
   "source": [
    "with timing(\"Loading data as dataset object\"):\n",
    "    S1P_xyz = dataset(\"/Users/je714/p_data/run*/S1P/05*nc\", topology=\"/Users/je714/p_data/S1P_ff14SB_newclean.prmtop\")"
   ]
  },
  {
   "cell_type": "code",
   "execution_count": 4,
   "metadata": {
    "collapsed": false
   },
   "outputs": [
    {
     "name": "stdout",
     "output_type": "stream",
     "text": [
      "Loading data as dataset object: 0.195 seconds\n"
     ]
    }
   ],
   "source": [
    "with timing(\"Loading data as dataset object\"):\n",
    "    SEP_xyz = dataset(\"/Users/je714/p_data/run*/SEP/05*nc\", topology=\"/Users/je714/p_data/SEP_ff14SB_newclean.prmtop\")"
   ]
  },
  {
   "cell_type": "markdown",
   "metadata": {},
   "source": [
    "## Featurization\n",
    "The raw (x, y, z) coordinates from the simulation do not respect the translational and rotational symmetry of our problem. A Featurizer transforms cartesian coordinates into other representations.\n",
    "\n",
    "### Dihedrals\n",
    "Here we use the `DihedralFeaturizer` to turn our data into phi and psi dihedral angles.\n",
    "Observe that the 6812*3-dimensional space is reduced substantially."
   ]
  },
  {
   "cell_type": "code",
   "execution_count": null,
   "metadata": {
    "collapsed": false
   },
   "outputs": [],
   "source": [
    "wt_featurizer = DihedralFeaturizer(types=['phi', 'psi'])\n",
    "if os.path.isfile('/Users/je714/wt_data/wt_diheds_phi-psi.tgz'):\n",
    "    with timing(\"Loading dihedrals from file...\"):\n",
    "        wt_diheds = np.loadtxt('/Users/je714/wt_data/wt_diheds_phi-psi.tgz')\n",
    "else:\n",
    "    with timing(\"Featurizing trajectory into dihedrals...\"):\n",
    "        wt_diheds = wt_featurizer.fit_transform(wt_xyz)\n",
    "        np.savetxt('/Users/je714/wt_data/wt_diheds_phi-psi.tgz', np.concatenate(wt_diheds))"
   ]
  },
  {
   "cell_type": "code",
   "execution_count": null,
   "metadata": {
    "collapsed": false
   },
   "outputs": [],
   "source": [
    "S1P_featurizer = DihedralFeaturizer(types=['phi', 'psi'])\n",
    "if os.path.isfile('/Users/je714/p_data/S1P_diheds_phi-psi.tgz'):\n",
    "    with timing(\"Loading dihedrals from file...\"):\n",
    "        S1P_diheds = np.loadtxt('/Users/je714/p_data/S1P_diheds_phi-psi.tgz')\n",
    "else:\n",
    "    with timing(\"Featurizing trajectory into dihedrals...\"):\n",
    "        S1P_diheds = S1P_featurizer.fit_transform(S1P_xyz)\n",
    "        np.savetxt('/Users/je714/p_data/S1P_diheds_phi-psi.tgz', np.concatenate(S1P_diheds))"
   ]
  },
  {
   "cell_type": "code",
   "execution_count": null,
   "metadata": {
    "collapsed": false
   },
   "outputs": [],
   "source": [
    "SEP_featurizer = DihedralFeaturizer(types=['phi', 'psi'])\n",
    "if os.path.isfile('/Users/je714/p_data/SEP_diheds_phi-psi.tgz'):\n",
    "    with timing(\"Loading dihedrals from file...\"):\n",
    "        SEP_diheds = np.loadtxt('/Users/je714/p_data/SEP_diheds_phi-psi.tgz')\n",
    "else:\n",
    "    with timing(\"Featurizing trajectory into dihedrals...\"):\n",
    "        SEP_diheds = SEP_featurizer.fit_transform(SEP_xyz)\n",
    "        np.savetxt('/Users/je714/p_data/SEP_diheds_phi-psi.tgz', np.concatenate(SEP_diheds))"
   ]
  },
  {
   "cell_type": "markdown",
   "metadata": {},
   "source": [
    "### Contact Featurizer\n",
    "Featurizer based on residue-residue distances\n",
    "\n",
    "This featurizer transforms a dataset containing MD trajectories into a vector dataset by representing each frame in each of the MD trajectories by a vector of the distances between pairs of amino-acid residues.\n",
    "\n",
    "The exact method for computing the the distance between two residues is configurable with the `scheme` parameter. In this case we use `\"ca\"` to determine the distance between two residues as the distance between their alpha carbons."
   ]
  },
  {
   "cell_type": "code",
   "execution_count": null,
   "metadata": {
    "collapsed": false
   },
   "outputs": [],
   "source": [
    "# from msmbuilder.featurizer import ContactFeaturizer\n",
    "# featurizer_contact = ContactFeaturizer(\"all\", scheme=\"ca\")\n",
    "# contacts = featurizer_contact.fit_transform(xyz)\n",
    "# print(xyz[0].xyz.shape)\n",
    "# print(contacts[0].shape)"
   ]
  },
  {
   "cell_type": "markdown",
   "metadata": {},
   "source": [
    "## Intermediate kinetic model: tICA\n",
    "`tICA` is similar to PCA. Note the reduction to just 4 dimensions."
   ]
  },
  {
   "cell_type": "code",
   "execution_count": null,
   "metadata": {
    "collapsed": false
   },
   "outputs": [],
   "source": [
    "wt_xyz[0][0].topology"
   ]
  },
  {
   "cell_type": "code",
   "execution_count": null,
   "metadata": {
    "collapsed": false
   },
   "outputs": [],
   "source": [
    "wt_diheds.shape"
   ]
  },
  {
   "cell_type": "code",
   "execution_count": 5,
   "metadata": {
    "collapsed": true
   },
   "outputs": [],
   "source": [
    "from sklearn.pipeline import Pipeline\n",
    "from msmbuilder.decomposition import tICA\n",
    "from msmbuilder.cluster import MiniBatchKMeans\n",
    "from msmbuilder.msm import MarkovStateModel\n",
    "\n",
    "\n"
   ]
  },
  {
   "cell_type": "code",
   "execution_count": null,
   "metadata": {
    "collapsed": false
   },
   "outputs": [],
   "source": [
    "DihedralFeaturizer?"
   ]
  },
  {
   "cell_type": "code",
   "execution_count": null,
   "metadata": {
    "collapsed": true
   },
   "outputs": [],
   "source": [
    "model = Pipeline([\n",
    "        ('featurizer', DihedralFeaturizer(types=['phi', 'psi'])),\n",
    "        ('tica', tICA(n_components=10, lag_time=20)),\n",
    "        ('cluster', MiniBatchKMeans(n_clusters=1000)),\n",
    "        ('msm', MarkovStateModel(lag_time=50))\n",
    "    ])"
   ]
  },
  {
   "cell_type": "code",
   "execution_count": null,
   "metadata": {
    "collapsed": false
   },
   "outputs": [],
   "source": [
    "model.fit(wt_xyz)"
   ]
  },
  {
   "cell_type": "code",
   "execution_count": null,
   "metadata": {
    "collapsed": false
   },
   "outputs": [],
   "source": [
    "for step in model.steps:\n",
    "    print(step[0])"
   ]
  },
  {
   "cell_type": "code",
   "execution_count": null,
   "metadata": {
    "collapsed": false
   },
   "outputs": [],
   "source": [
    "diheds = model.steps[0][1]\n",
    "tica_obj = model.steps[1][1]\n",
    "clusterer = model.steps[2][1]\n",
    "msm = model.steps[3][1]\n"
   ]
  },
  {
   "cell_type": "code",
   "execution_count": null,
   "metadata": {
    "collapsed": false
   },
   "outputs": [],
   "source": [
    "tica_trajs = tica_obj.transform(diheds.transform(wt_xyz))"
   ]
  },
  {
   "cell_type": "code",
   "execution_count": null,
   "metadata": {
    "collapsed": false
   },
   "outputs": [],
   "source": [
    "np.concatenate(tica_trajs).shape"
   ]
  },
  {
   "cell_type": "markdown",
   "metadata": {},
   "source": [
    "### tICA Heatmap\n",
    "We can histogram our data projecting along the two first tICS (the two slowest DOFs found by tICA)."
   ]
  },
  {
   "cell_type": "code",
   "execution_count": null,
   "metadata": {
    "collapsed": false
   },
   "outputs": [],
   "source": [
    "plt.plot(np.concatenate(tica_trajs)[::,0])"
   ]
  },
  {
   "cell_type": "code",
   "execution_count": null,
   "metadata": {
    "collapsed": false
   },
   "outputs": [],
   "source": [
    "def plot_ticaTrajs(tica_trajs):\n",
    "    txx = np.concatenate(tica_trajs)\n",
    "    plt.figure(figsize=(10.5,5))\n",
    "    cmap=sns.cubehelix_palette(8, start=.5, rot=-.75, as_cmap=True)\n",
    "    plt.subplot(1, 2, 1)\n",
    "    plt.hexbin(txx[:,0], txx[:,1], bins='log', mincnt=1, cmap=cmap)\n",
    "    plt.xlabel('tIC 1')\n",
    "    plt.ylabel('tIC 2')\n",
    "    cb = plt.colorbar()\n",
    "    cb.set_label('log10(N)')\n",
    "    plt.subplot(1, 2, 2)\n",
    "    plt.hexbin(txx[:,2], txx[:,3], bins='log', mincnt=1, cmap=cmap)\n",
    "    plt.xlabel('tIC 3')\n",
    "    plt.ylabel('tIC 4')\n",
    "    cb = plt.colorbar()\n",
    "    cb.set_label('log10(N)')"
   ]
  },
  {
   "cell_type": "code",
   "execution_count": null,
   "metadata": {
    "collapsed": false
   },
   "outputs": [],
   "source": [
    "plot_ticaTrajs(tica_trajs)"
   ]
  },
  {
   "cell_type": "markdown",
   "metadata": {},
   "source": [
    "## Clustering\n",
    "Conformations need to be clustered into states (sometimes written as microstates). We cluster based on the tICA projections to group conformations that interconvert rapidly. Note that we transform our trajectories from the 4-dimensional tICA space into a 1-dimensional cluster index."
   ]
  },
  {
   "cell_type": "code",
   "execution_count": null,
   "metadata": {
    "collapsed": false
   },
   "outputs": [],
   "source": [
    "clusterer.cluster_centers_.shape"
   ]
  },
  {
   "cell_type": "code",
   "execution_count": null,
   "metadata": {
    "collapsed": false
   },
   "outputs": [],
   "source": [
    "def plot_clusterCenters(clusterer_object, tica_trajs):\n",
    "    txx = np.concatenate(tica_trajs)\n",
    "    plt.figure(figsize=(10.5,5))\n",
    "    plt.subplot(1, 2, 1)\n",
    "    cmap=sns.cubehelix_palette(8, start=.5, rot=-.75, as_cmap=True)\n",
    "    plt.hexbin(txx[:,0], txx[:,1], bins='log', mincnt=1, cmap=cmap)\n",
    "    cb = plt.colorbar()\n",
    "    cb.set_label('log10(N)')\n",
    "    plt.scatter(clusterer.cluster_centers_[:,0],\n",
    "                clusterer.cluster_centers_[:,1], \n",
    "                s=4, c='black')\n",
    "    plt.xlabel('tIC 1')\n",
    "    plt.ylabel('tIC 2')\n",
    "\n",
    "    plt.subplot(1,2,2)\n",
    "    plt.hexbin(txx[:,2], txx[:,3], bins='log', mincnt=1, cmap=cmap)\n",
    "    cb = plt.colorbar()\n",
    "    cb.set_label('log10(N)')\n",
    "    plt.scatter(clusterer.cluster_centers_[:,2],\n",
    "                clusterer.cluster_centers_[:,3], \n",
    "                s=4, c='black')\n",
    "    plt.xlabel('tIC 3')\n",
    "    plt.ylabel('tIC 4')\n",
    "\n",
    "    plt.tight_layout()"
   ]
  },
  {
   "cell_type": "code",
   "execution_count": null,
   "metadata": {
    "collapsed": false
   },
   "outputs": [],
   "source": [
    "plot_clusterCenters(clusterer, tica_trajs)\n",
    "plt.savefig(\"/Users/je714/Dropbox (Imperial)/ESAreport/Figures/tica_clusters.png\", format='png', dpi=300)"
   ]
  },
  {
   "cell_type": "markdown",
   "metadata": {},
   "source": [
    "## MSM\n",
    "We can construct an MSM from the labeled trajectories."
   ]
  },
  {
   "cell_type": "code",
   "execution_count": null,
   "metadata": {
    "collapsed": false
   },
   "outputs": [],
   "source": [
    "np.asarray(range(0,10))"
   ]
  },
  {
   "cell_type": "code",
   "execution_count": null,
   "metadata": {
    "collapsed": false
   },
   "outputs": [],
   "source": [
    "plt.hexbin(np.asarray(range(0, np.hstack(clusterer.labels_).shape[0]))*0.00002,\n",
    "           np.hstack(clusterer.labels_),\n",
    "           mincnt=1,\n",
    "           cmap=sns.cubehelix_palette(8, start=.5, rot=-.75, as_cmap=True))\n",
    "plt.ylabel(\"Cluster ID\")\n",
    "plt.xlabel(\"Aggregated time ($\\mu$s)\")\n",
    "plt.savefig(\"/Users/je714/Dropbox (Imperial)/ESAReport/Figures/labeled_Trajs\",\n",
    "            format='png', dpi=300)"
   ]
  },
  {
   "cell_type": "code",
   "execution_count": null,
   "metadata": {
    "collapsed": false
   },
   "outputs": [],
   "source": [
    "msm_lagtimes = [x for x in range(1,201) if (x%10==0) or (x==1)]\n",
    "msm_lagtimes"
   ]
  },
  {
   "cell_type": "code",
   "execution_count": null,
   "metadata": {
    "collapsed": false
   },
   "outputs": [],
   "source": [
    "msm_test = MarkovStateModel(lag_time=1)\n",
    "msm_test.fit(np.hstack(clusterer.labels_))"
   ]
  },
  {
   "cell_type": "code",
   "execution_count": null,
   "metadata": {
    "collapsed": false
   },
   "outputs": [],
   "source": [
    "msm_objects = []\n",
    "for lagtime in msm_lagtimes:\n",
    "    msm = MarkovStateModel(lag_time=lagtime)\n",
    "    msm.fit(np.hstack(clusterer.labels_))\n",
    "    msm_objects.append(msm)"
   ]
  },
  {
   "cell_type": "code",
   "execution_count": null,
   "metadata": {
    "collapsed": false
   },
   "outputs": [],
   "source": [
    "msm_timescales = []\n",
    "for msm in msm_objects:\n",
    "    msm_timescales.append(msm.timescales_)"
   ]
  },
  {
   "cell_type": "code",
   "execution_count": null,
   "metadata": {
    "collapsed": false
   },
   "outputs": [],
   "source": [
    "first_timescale = []\n",
    "for lag_time, timescale in zip(msm_lagtimes, msm_timescales):\n",
    "    print(lag_time, timescale[0])\n",
    "    first_timescale.append(timescale[0])"
   ]
  },
  {
   "cell_type": "code",
   "execution_count": null,
   "metadata": {
    "collapsed": false
   },
   "outputs": [],
   "source": [
    "time_asNParray = np.array(first_timescale)\n",
    "lag_asNParray = np.array(msm_lagtimes[0:6])"
   ]
  },
  {
   "cell_type": "code",
   "execution_count": null,
   "metadata": {
    "collapsed": false
   },
   "outputs": [],
   "source": [
    "plt.scatter(lag_asNParray, time_asNParray)\n",
    "plt.semilogy()"
   ]
  },
  {
   "cell_type": "code",
   "execution_count": null,
   "metadata": {
    "collapsed": false
   },
   "outputs": [],
   "source": [
    "txx = np.concatenate(tica_trajs)\n",
    "plt.hexbin(txx[:,0], txx[:,1], bins='log', mincnt=1, cmap=\"Greys\")\n",
    "plt.scatter(clusterer.cluster_centers_[:,0],\n",
    "            clusterer.cluster_centers_[:,1],\n",
    "            s=1e4 * msm.populations_, # size by population\n",
    "            c=msm.left_eigenvectors_[:,1], # color by eigenvector\n",
    "            cmap=\"RdBu\") \n",
    "plt.colorbar(label='First dynamical eigenvector')\n",
    "plt.xlabel('tIC 1')\n",
    "plt.ylabel('tIC 2')\n",
    "plt.tight_layout()"
   ]
  },
  {
   "cell_type": "markdown",
   "metadata": {
    "collapsed": true
   },
   "source": [
    "\n",
    "## Macrostate model"
   ]
  },
  {
   "cell_type": "code",
   "execution_count": null,
   "metadata": {
    "collapsed": false
   },
   "outputs": [],
   "source": [
    "from msmbuilder.lumping import PCCAPlus\n",
    "pcca = PCCAPlus.from_msm(msm, n_macrostates=5)\n",
    "macro_trajs = pcca.transform(np.concatenate(clusterer.labels_))"
   ]
  },
  {
   "cell_type": "code",
   "execution_count": null,
   "metadata": {
    "collapsed": false
   },
   "outputs": [],
   "source": [
    "print(msm.left_eigenvectors_[:,1].shape)\n",
    "print(clusterer.cluster_centers_[:,0].shape)"
   ]
  },
  {
   "cell_type": "code",
   "execution_count": null,
   "metadata": {
    "collapsed": false,
    "scrolled": true
   },
   "outputs": [],
   "source": [
    "plt.hexbin(txx[:,0], txx[:,1], bins='log', mincnt=1, cmap=\"Greys\")\n",
    "plt.scatter(clusterer.cluster_centers_[:,0],\n",
    "            clusterer.cluster_centers_[:,1],\n",
    "            s=100,\n",
    "            c=pcca.microstate_mapping_,\n",
    "      )\n",
    "plt.xlabel('tIC 1')\n",
    "plt.ylabel('tIC 2')"
   ]
  },
  {
   "cell_type": "code",
   "execution_count": null,
   "metadata": {
    "collapsed": false
   },
   "outputs": [],
   "source": [
    "plt.plot(msm.eigenvalues_, 'bo')\n",
    "plt.xlabel(\"MSM state\")\n",
    "plt.ylim(0,1)"
   ]
  },
  {
   "cell_type": "code",
   "execution_count": null,
   "metadata": {
    "collapsed": false
   },
   "outputs": [],
   "source": [
    "plt.plot(msm.sample_discrete(n_steps=1000), 'bo')"
   ]
  },
  {
   "cell_type": "code",
   "execution_count": null,
   "metadata": {
    "collapsed": false
   },
   "outputs": [],
   "source": [
    "from msmbuilder import utils"
   ]
  },
  {
   "cell_type": "code",
   "execution_count": null,
   "metadata": {
    "collapsed": false
   },
   "outputs": [],
   "source": [
    "plt.plot(msm.populations_)"
   ]
  },
  {
   "cell_type": "code",
   "execution_count": null,
   "metadata": {
    "collapsed": false
   },
   "outputs": [],
   "source": [
    "plt.plot(msm.timescales_)"
   ]
  },
  {
   "cell_type": "code",
   "execution_count": null,
   "metadata": {
    "collapsed": true
   },
   "outputs": [],
   "source": []
  },
  {
   "cell_type": "code",
   "execution_count": null,
   "metadata": {
    "collapsed": true
   },
   "outputs": [],
   "source": []
  }
 ],
 "metadata": {
  "kernelspec": {
   "display_name": "Python 3",
   "language": "python",
   "name": "python3"
  },
  "language_info": {
   "codemirror_mode": {
    "name": "ipython",
    "version": 3
   },
   "file_extension": ".py",
   "mimetype": "text/x-python",
   "name": "python",
   "nbconvert_exporter": "python",
   "pygments_lexer": "ipython3",
   "version": "3.5.1"
  }
 },
 "nbformat": 4,
 "nbformat_minor": 0
}
