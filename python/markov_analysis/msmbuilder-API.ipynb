{
 "cells": [
  {
   "cell_type": "markdown",
   "metadata": {},
   "source": [
    "# Apply msmbuilder API to WT ff14SB cTN"
   ]
  },
  {
   "cell_type": "markdown",
   "metadata": {},
   "source": [
    "MD datasets are usually quite large. It doesn't make sense to load everything into memory at once. The `dataset` object lazily-loads trajectories as they are needed. Below, we create a dataset out of all the trajectories we have at the moment."
   ]
  },
  {
   "cell_type": "code",
   "execution_count": 1,
   "metadata": {
    "collapsed": false
   },
   "outputs": [],
   "source": [
    "from msmbuilder.dataset import dataset\n",
    "xyz = dataset(\"./run8/05*nc\", topology=\"./test.pdb\")"
   ]
  },
  {
   "cell_type": "markdown",
   "metadata": {},
   "source": [
    "## Featurization\n",
    "The raw (x, y, z) coordinates from the simulation do not respect the translational and rotational symmetry of our problem. A Featurizer transforms cartesian coordinates into other representations.\n",
    "\n",
    "### Dihedrals\n",
    "Here we use the `DihedralFeaturizer` to turn our data into phi and psi dihedral angles.\n",
    "Observe that the 6812*3-dimensional space is reduced substantially."
   ]
  },
  {
   "cell_type": "code",
   "execution_count": null,
   "metadata": {
    "collapsed": false
   },
   "outputs": [],
   "source": [
    "from msmbuilder.featurizer import DihedralFeaturizer\n",
    "featurizer = DihedralFeaturizer(types=['phi', 'psi'])\n",
    "diheds = xyz.fit_transform_with(featurizer, \"diheds\", fmt='dir-npy')\n",
    "from msmbuilder.utils import load\n",
    "# diheds = dataset('diheds_phi_psi/') # Load dihedrals-transformed dataset\n",
    "print(xyz[0].xyz.shape)\n",
    "print(diheds[0].shape)"
   ]
  },
  {
   "cell_type": "markdown",
   "metadata": {},
   "source": [
    "### Contact Featurizer\n",
    "Featurizer based on residue-residue distances\n",
    "\n",
    "This featurizer transforms a dataset containing MD trajectories into a vector dataset by representing each frame in each of the MD trajectories by a vector of the distances between pairs of amino-acid residues.\n",
    "\n",
    "The exact method for computing the the distance between two residues is configurable with the `scheme` parameter. In this case we use `\"ca\"` to determine the distance between two residues as the distance between their alpha carbons."
   ]
  },
  {
   "cell_type": "code",
   "execution_count": null,
   "metadata": {
    "collapsed": false
   },
   "outputs": [],
   "source": [
    "from msmbuilder.featurizer import ContactFeaturizer\n",
    "featurizer_contact = ContactFeaturizer(\"all\", scheme=\"ca\")\n",
    "contacts = xyz.fit_transform_with(featurizer_contact, \"contacts\", fmt =\"dir-npy\")\n",
    "print(xyz[0].xyz.shape)\n",
    "print(contacts[0].shape)"
   ]
  },
  {
   "cell_type": "markdown",
   "metadata": {},
   "source": [
    "## Intermediate kinetic model: tICA\n",
    "`tICA` is similar to PCA. Note the reduction to just 4 dimensions."
   ]
  },
  {
   "cell_type": "code",
   "execution_count": null,
   "metadata": {
    "collapsed": false
   },
   "outputs": [],
   "source": [
    "from msmbuilder.decomposition import tICA\n",
    "lag = 10\n",
    "tica_model = tICA(lag_time=lag, n_components=4)\n",
    "tica_model_diheds = diheds.fit_with(tica_model)\n",
    "tica_trajs_diheds = diheds.transform_with(tica_model, 'tica_diheds_lag%s/' % lag, fmt='dir-npy')\n",
    "\n",
    "tica_model_contacts = contacts.fit_with(tica_model)\n",
    "tica_trajs_contacts = contacts.transform_with(tica_model, 'tica_contacts_lag%s/' % lag, fmt='dir-npy')\n",
    "\n",
    "\n",
    "# tica_trajs = dataset('./ticas_diheds/')\n",
    "print(diheds[0].shape)\n",
    "print(tica_trajs_diheds[0].shape)\n",
    "print(tica_contacts_diheds[0].shape)"
   ]
  },
  {
   "cell_type": "markdown",
   "metadata": {},
   "source": [
    "### tICA Heatmap\n",
    "We can histogram our data projecting along the two first tICS (the two slowest DOFs found by tICA)."
   ]
  },
  {
   "cell_type": "code",
   "execution_count": null,
   "metadata": {
    "collapsed": false
   },
   "outputs": [],
   "source": [
    "%matplotlib inline\n",
    "from matplotlib import pyplot as plt\n",
    "import numpy as np\n",
    "txx = np.concatenate(tica_trajs)\n",
    "\n",
    "#fig = plt.figure(figsize=(10,10))\n",
    "plt.subplot(1, 2, 1)\n",
    "plt.hexbin(txx[:,0], txx[:,1], bins='log', mincnt=1)\n",
    "plt.xlabel('tIC 1')\n",
    "plt.ylabel('tIC 2')\n",
    "cb = plt.colorbar()\n",
    "cb.set_label('log10(N)')\n",
    "plt.subplot(1,2,2)\n",
    "plt.hexbin(txx[:,2], txx[:,3], bins='log', mincnt=1)\n",
    "plt.xlabel('tIC 3')\n",
    "plt.ylabel('tIC 4')\n",
    "cb = plt.colorbar()\n",
    "cb.set_label('log10(N)')\n",
    "plt.tight_layout()\n",
    "plt.savefig('tICA_fromDiheds_API.eps', dpi = 300, format = 'eps')"
   ]
  },
  {
   "cell_type": "code",
   "execution_count": null,
   "metadata": {
    "collapsed": false
   },
   "outputs": [],
   "source": [
    "plt.hexbin(txx[:,0], txx[:,1], bins='log', mincnt=1)\n",
    "plt.xlabel('tIC 1')\n",
    "plt.ylabel('tIC 2')\n",
    "cb = plt.colorbar()\n",
    "cb.set_label('log10(N)')\n",
    "plt.savefig('tICA_fromDiheds_tics1-2.png', dpi = 100, format = 'png')"
   ]
  },
  {
   "cell_type": "code",
   "execution_count": null,
   "metadata": {
    "collapsed": true
   },
   "outputs": [],
   "source": [
    "subplot2grid((2,1),(0,0))\n",
    "plot(Y[:,0])\n",
    "ylabel('ind. comp. 1')\n",
    "subplot2grid((2,1),(1,0))\n",
    "plot(Y[:,1])\n",
    "ylabel('ind. comp. 2')\n",
    "xlabel('time (10 ns)')"
   ]
  },
  {
   "cell_type": "markdown",
   "metadata": {},
   "source": [
    "## Clustering\n",
    "Conformations need to be clustered into states (sometimes written as microstates). We cluster based on the tICA projections to group conformations that interconvert rapidly. Note that we transform our trajectories from the 4-dimensional tICA space into a 1-dimensional cluster index."
   ]
  },
  {
   "cell_type": "code",
   "execution_count": null,
   "metadata": {
    "collapsed": false
   },
   "outputs": [],
   "source": [
    "from msmbuilder.cluster import MiniBatchKMeans\n",
    "clusterer = MiniBatchKMeans(n_clusters=100)\n",
    "clustered_trajs = tica_trajs.fit_transform_with(clusterer,\n",
    "                                               'kmeans_diheds_100/',\n",
    "                                                fmt='dir-npy')\n",
    "\n",
    "#clustered_trajs = dataset('./kmeans_diheds_100/')\n",
    "print(tica_trajs[0].shape)\n",
    "print(clustered_trajs[0].shape)"
   ]
  },
  {
   "cell_type": "code",
   "execution_count": null,
   "metadata": {
    "collapsed": false
   },
   "outputs": [],
   "source": [
    "clusterer.cluster_centers_.shape"
   ]
  },
  {
   "cell_type": "code",
   "execution_count": null,
   "metadata": {
    "collapsed": false
   },
   "outputs": [],
   "source": [
    "fig = plt.figure(figsize=(10,10))\n",
    "plt.subplot(2, 2, 1)\n",
    "plt.hexbin(txx[:,0], txx[:,1], bins='log', mincnt=1)\n",
    "plt.scatter(clusterer.cluster_centers_[:,0],\n",
    "            clusterer.cluster_centers_[:,1], \n",
    "            s=100, c='w')\n",
    "plt.xlabel('tIC 1')\n",
    "plt.ylabel('tIC 2')\n",
    "plt.subplot(2,2,2)\n",
    "plt.hexbin(txx[:,2], txx[:,3], bins='log', mincnt=1)\n",
    "plt.scatter(clusterer.cluster_centers_[:,2],\n",
    "            clusterer.cluster_centers_[:,3], \n",
    "            s=100, c='w')\n",
    "plt.xlabel('tIC 3')\n",
    "plt.ylabel('tIC 4')\n",
    "plt.show()"
   ]
  },
  {
   "cell_type": "code",
   "execution_count": null,
   "metadata": {
    "collapsed": false
   },
   "outputs": [],
   "source": [
    "\n"
   ]
  },
  {
   "cell_type": "markdown",
   "metadata": {},
   "source": [
    "## MSM\n",
    "We can construct an MSM from the labeled trajectories."
   ]
  },
  {
   "cell_type": "code",
   "execution_count": null,
   "metadata": {
    "collapsed": false
   },
   "outputs": [],
   "source": [
    "from msmbuilder.msm import MarkovStateModel\n",
    "from msmbuilder.utils import dump\n",
    "msm = MarkovStateModel(lag_time=5)\n",
    "msm.fit(clustered_trajs)\n",
    "print(\"The MSM has %s states.\\n\" % msm.n_states_)\n",
    "print(msm.left_eigenvectors_.shape)"
   ]
  },
  {
   "cell_type": "code",
   "execution_count": null,
   "metadata": {
    "collapsed": false
   },
   "outputs": [],
   "source": [
    "print(msm.left_eigenvectors_[:,1].shape)\n",
    "print(clusterer.cluster_centers_[:,0].shape)"
   ]
  },
  {
   "cell_type": "code",
   "execution_count": null,
   "metadata": {
    "collapsed": false
   },
   "outputs": [],
   "source": [
    "plt.hexbin(txx[:,0], txx[:,1], bins='log', mincnt=1, cmap=\"Greys\")\n",
    "plt.scatter(clusterer.cluster_centers_[:,0],\n",
    "            clusterer.cluster_centers_[:,1],\n",
    "            s=1e4 * msm.populations_, # size by population\n",
    "            c=msm.left_eigenvectors_[:,1], # color by eigenvector\n",
    "            cmap=\"RdBu\") \n",
    "plt.colorbar(label='First dynamical eigenvector')\n",
    "plt.xlabel('tIC 1')\n",
    "plt.ylabel('tIC 2')\n",
    "plt.tight_layout()"
   ]
  },
  {
   "cell_type": "markdown",
   "metadata": {
    "collapsed": true
   },
   "source": [
    "## Macrostate model"
   ]
  },
  {
   "cell_type": "code",
   "execution_count": null,
   "metadata": {
    "collapsed": false
   },
   "outputs": [],
   "source": [
    "from msmbuilder.lumping import PCCAPlus\n",
    "pcca = PCCAPlus.from_msm(msm, n_macrostates=5)\n",
    "macro_trajs = pcca.transform(clustered_trajs)"
   ]
  },
  {
   "cell_type": "code",
   "execution_count": null,
   "metadata": {
    "collapsed": false
   },
   "outputs": [],
   "source": [
    "print(msm.left_eigenvectors_[:,1].shape)\n",
    "print(clusterer.cluster_centers_[:,0].shape)"
   ]
  },
  {
   "cell_type": "code",
   "execution_count": null,
   "metadata": {
    "collapsed": false
   },
   "outputs": [],
   "source": [
    "plt.hexbin(txx[:,0], txx[:,1], bins='log', mincnt=1, cmap=\"Greys\")\n",
    "plt.scatter(clusterer.cluster_centers_[:,0],\n",
    "            clusterer.cluster_centers_[:,1],\n",
    "            s=100,\n",
    "            c=pcca.microstate_mapping_,\n",
    "      )\n",
    "plt.xlabel('tIC 1')\n",
    "plt.ylabel('tIC 2')"
   ]
  },
  {
   "cell_type": "code",
   "execution_count": null,
   "metadata": {
    "collapsed": true
   },
   "outputs": [],
   "source": []
  }
 ],
 "metadata": {
  "kernelspec": {
   "display_name": "Python 3",
   "language": "python",
   "name": "python3"
  },
  "language_info": {
   "codemirror_mode": {
    "name": "ipython",
    "version": 3
   },
   "file_extension": ".py",
   "mimetype": "text/x-python",
   "name": "python",
   "nbconvert_exporter": "python",
   "pygments_lexer": "ipython3",
   "version": "3.4.4"
  }
 },
 "nbformat": 4,
 "nbformat_minor": 0
}
