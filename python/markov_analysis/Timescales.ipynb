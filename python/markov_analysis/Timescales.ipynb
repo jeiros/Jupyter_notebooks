{
 "cells": [
  {
   "cell_type": "code",
   "execution_count": 3,
   "metadata": {
    "collapsed": true
   },
   "outputs": [],
   "source": [
    "%matplotlib inline\n",
    "import numpy as np\n",
    "import matplotlib.pyplot as pp\n",
    "from msmbuilder.example_datasets import fetch_alanine_dipeptide\n",
    "from msmbuilder.cluster import KCenters\n",
    "from msmbuilder.msm import ContinuousTimeMSM, MarkovStateModel\n",
    "from msmbuilder.msm import implied_timescales\n",
    "import mdtraj as md"
   ]
  },
  {
   "cell_type": "code",
   "execution_count": 4,
   "metadata": {
    "collapsed": false
   },
   "outputs": [],
   "source": [
    "def load_Trajs(trajfiles_list, prmtop_file, stride=1, chunk=100):\n",
    "    \"\"\"\n",
    "    Iteratively loads a list of NetCDF files and returns them\n",
    "    as a list of mdtraj.Trajectory objects\n",
    "\n",
    "    Parameters\n",
    "    ----------\n",
    "    trajfiles_list: list of str\n",
    "            List with the names of trajectory files\n",
    "    prmtop_file:  str\n",
    "            Name of the prmtop file\n",
    "    stride: int\n",
    "            Frames to be used when loading the trajectories\n",
    "    chunk:  int\n",
    "            Number of frames to load at once from disk per iteration.\n",
    "            If 0, load all.\n",
    "\n",
    "    Returns\n",
    "    -------\n",
    "    list_chunks: list\n",
    "            List of mdtraj.Trajectory objects, each of 'chunk' lenght\n",
    "    \"\"\"\n",
    "    list_chunks = []\n",
    "    for traj in trajfiles_list:\n",
    "        for frag in md.iterload(traj, chunk=chunk, top=prmtop_file,\n",
    "                                stride=stride):\n",
    "            list_chunks.append(frag)\n",
    "    return(list_chunks)\n",
    "\n",
    "from glob import glob\n",
    "tj_list = sorted(glob(\"run1/05*nc\"))\n",
    "tp = \"run1/WT-ff14SB_clean.prmtop\"\n",
    "my_trajs = load_Trajs(tj_list, tp, chunk = 250)"
   ]
  },
  {
   "cell_type": "code",
   "execution_count": 6,
   "metadata": {
    "collapsed": false
   },
   "outputs": [],
   "source": [
    "heavy_inds = my_trajs[0].topology.select_atom_indices('heavy')"
   ]
  },
  {
   "cell_type": "code",
   "execution_count": 8,
   "metadata": {
    "collapsed": false
   },
   "outputs": [],
   "source": [
    "my_trajs = [t.atom_slice(heavy_inds) for t in my_trajs]"
   ]
  },
  {
   "cell_type": "code",
   "execution_count": 23,
   "metadata": {
    "collapsed": false
   },
   "outputs": [
    {
     "name": "stdout",
     "output_type": "stream",
     "text": [
      "KCenters clustering\n",
      "--------------------\n",
      "n_clusters : 250\n",
      "metric     : rmsd\n",
      "\n",
      "Inertia       : 3957.1318614032243\n",
      "Mean distance : 0.20556529150146619\n",
      "Max  distance : 0.2829777313947186\n",
      "\n"
     ]
    }
   ],
   "source": [
    "cluster = KCenters(metric='rmsd', n_clusters=250)\n",
    "sequences = cluster.fit_transform(my_trajs)\n",
    "print(cluster.summarize())"
   ]
  },
  {
   "cell_type": "code",
   "execution_count": 24,
   "metadata": {
    "collapsed": true
   },
   "outputs": [],
   "source": [
    "lag_times = [1, 25, 50, 100]\n",
    "n_timescales = 10"
   ]
  },
  {
   "cell_type": "code",
   "execution_count": 25,
   "metadata": {
    "collapsed": false
   },
   "outputs": [
    {
     "data": {
      "image/png": "[encoded data removed]",
      "text/plain": [
       "<matplotlib.figure.Figure at 0x11e28d320>"
      ]
     },
     "metadata": {},
     "output_type": "display_data"
    }
   ],
   "source": [
    "msm_timescales = implied_timescales(sequences, lag_times, n_timescales=n_timescales, msm=MarkovStateModel(verbose=False))\n",
    "for i in range(n_timescales):\n",
    "   pp.plot(lag_times, msm_timescales[:, i], 'o-')\n",
    "\n",
    "pp.title('Discrete-time MSM Relaxation Timescales')\n",
    "pp.semilogy()\n",
    "pp.show()"
   ]
  },
  {
   "cell_type": "code",
   "execution_count": 26,
   "metadata": {
    "collapsed": false
   },
   "outputs": [
    {
     "ename": "IndexError",
     "evalue": "index 0 is out of bounds for axis 1 with size 0",
     "output_type": "error",
     "traceback": [
      "\u001b[0;31m---------------------------------------------------------------------------\u001b[0m",
      "\u001b[0;31mIndexError\u001b[0m                                Traceback (most recent call last)",
      "\u001b[0;32m<ipython-input-26-f622612b5f26>\u001b[0m in \u001b[0;36m<module>\u001b[0;34m()\u001b[0m\n\u001b[1;32m      1\u001b[0m \u001b[0mctmsm_timescales\u001b[0m \u001b[0;34m=\u001b[0m \u001b[0mimplied_timescales\u001b[0m\u001b[0;34m(\u001b[0m\u001b[0msequences\u001b[0m\u001b[0;34m,\u001b[0m \u001b[0mlag_times\u001b[0m\u001b[0;34m,\u001b[0m \u001b[0mn_timescales\u001b[0m\u001b[0;34m=\u001b[0m\u001b[0mn_timescales\u001b[0m\u001b[0;34m,\u001b[0m \u001b[0mmsm\u001b[0m\u001b[0;34m=\u001b[0m\u001b[0mContinuousTimeMSM\u001b[0m\u001b[0;34m(\u001b[0m\u001b[0mverbose\u001b[0m\u001b[0;34m=\u001b[0m\u001b[0;32mFalse\u001b[0m\u001b[0;34m)\u001b[0m\u001b[0;34m)\u001b[0m\u001b[0;34m\u001b[0m\u001b[0m\n\u001b[1;32m      2\u001b[0m \u001b[0;32mfor\u001b[0m \u001b[0mi\u001b[0m \u001b[0;32min\u001b[0m \u001b[0mrange\u001b[0m\u001b[0;34m(\u001b[0m\u001b[0mn_timescales\u001b[0m\u001b[0;34m)\u001b[0m\u001b[0;34m:\u001b[0m\u001b[0;34m\u001b[0m\u001b[0m\n\u001b[0;32m----> 3\u001b[0;31m    \u001b[0mpp\u001b[0m\u001b[0;34m.\u001b[0m\u001b[0mplot\u001b[0m\u001b[0;34m(\u001b[0m\u001b[0mlag_times\u001b[0m\u001b[0;34m,\u001b[0m \u001b[0mctmsm_timescales\u001b[0m\u001b[0;34m[\u001b[0m\u001b[0;34m:\u001b[0m\u001b[0;34m,\u001b[0m \u001b[0mi\u001b[0m\u001b[0;34m]\u001b[0m\u001b[0;34m,\u001b[0m \u001b[0;34m'o-'\u001b[0m\u001b[0;34m)\u001b[0m\u001b[0;34m\u001b[0m\u001b[0m\n\u001b[0m\u001b[1;32m      4\u001b[0m \u001b[0;34m\u001b[0m\u001b[0m\n\u001b[1;32m      5\u001b[0m \u001b[0mpp\u001b[0m\u001b[0;34m.\u001b[0m\u001b[0mtitle\u001b[0m\u001b[0;34m(\u001b[0m\u001b[0;34m'Continuous-Time MSM Relaxation Timescales'\u001b[0m\u001b[0;34m)\u001b[0m\u001b[0;34m\u001b[0m\u001b[0m\n",
      "\u001b[0;31mIndexError\u001b[0m: index 0 is out of bounds for axis 1 with size 0"
     ]
    }
   ],
   "source": [
    "ctmsm_timescales = implied_timescales(sequences, lag_times, n_timescales=n_timescales, msm=ContinuousTimeMSM(verbose=False))\n",
    "for i in range(n_timescales):\n",
    "   pp.plot(lag_times, ctmsm_timescales[:, i], 'o-')\n",
    "\n",
    "pp.title('Continuous-Time MSM Relaxation Timescales')\n",
    "pp.semilogy()\n",
    "pp.show()"
   ]
  },
  {
   "cell_type": "code",
   "execution_count": null,
   "metadata": {
    "collapsed": true
   },
   "outputs": [],
   "source": []
  }
 ],
 "metadata": {
  "kernelspec": {
   "display_name": "Python 3",
   "language": "python",
   "name": "python3"
  },
  "language_info": {
   "codemirror_mode": {
    "name": "ipython",
    "version": 3
   },
   "file_extension": ".py",
   "mimetype": "text/x-python",
   "name": "python",
   "nbconvert_exporter": "python",
   "pygments_lexer": "ipython3",
   "version": "3.5.1"
  }
 },
 "nbformat": 4,
 "nbformat_minor": 0
}
