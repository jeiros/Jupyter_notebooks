{
 "cells": [
  {
   "cell_type": "markdown",
   "metadata": {},
   "source": [
    "# Contact maps\n",
    "In this notebook we calculate the contact maps between two masks."
   ]
  },
  {
   "cell_type": "code",
   "execution_count": 1,
   "metadata": {
    "collapsed": false
   },
   "outputs": [
    {
     "name": "stderr",
     "output_type": "stream",
     "text": [
      "/Users/je714/anaconda/envs/md_analysis/lib/python3.4/site-packages/IPython/html.py:14: ShimWarning: The `IPython.html` package has been deprecated. You should import from `notebook` instead. `IPython.html.widgets` has moved to `ipywidgets`.\n",
      "  \"`IPython.html.widgets` has moved to `ipywidgets`.\", ShimWarning)\n",
      "/Users/je714/anaconda/envs/md_analysis/lib/python3.4/site-packages/ipykernel/pylab/config.py:66: DeprecationWarning: metadata {'config': True} was set from the constructor.  Metadata should be set using the .tag() method, e.g., Int().tag(key1='value1', key2='value2')\n",
      "  inline backend.\"\"\"\n",
      "/Users/je714/anaconda/envs/md_analysis/lib/python3.4/site-packages/ipykernel/pylab/config.py:71: DeprecationWarning: metadata {'config': True} was set from the constructor.  Metadata should be set using the .tag() method, e.g., Int().tag(key1='value1', key2='value2')\n",
      "  'retina', 'jpeg', 'svg', 'pdf'.\"\"\")\n",
      "/Users/je714/anaconda/envs/md_analysis/lib/python3.4/site-packages/ipykernel/pylab/config.py:85: DeprecationWarning: metadata {'config': True} was set from the constructor.  Metadata should be set using the .tag() method, e.g., Int().tag(key1='value1', key2='value2')\n",
      "  use `figure_formats` instead)\"\"\")\n",
      "/Users/je714/anaconda/envs/md_analysis/lib/python3.4/site-packages/ipykernel/pylab/config.py:95: DeprecationWarning: metadata {'config': True} was set from the constructor.  Metadata should be set using the .tag() method, e.g., Int().tag(key1='value1', key2='value2')\n",
      "  \"\"\"\n",
      "/Users/je714/anaconda/envs/md_analysis/lib/python3.4/site-packages/ipykernel/pylab/config.py:114: DeprecationWarning: metadata {'config': True} was set from the constructor.  Metadata should be set using the .tag() method, e.g., Int().tag(key1='value1', key2='value2')\n",
      "  \"\"\")\n",
      "/Users/je714/anaconda/envs/md_analysis/lib/python3.4/site-packages/ipykernel/pylab/config.py:44: DeprecationWarning: InlineBackend._config_changed is deprecated: use @observe and @unobserve instead.\n",
      "  def _config_changed(self, name, old, new):\n",
      "/Users/je714/anaconda/envs/md_analysis/lib/python3.4/site-packages/traitlets/traitlets.py:770: DeprecationWarning: A parent of InlineBackend._config_changed has adopted the new @observe(change) API\n",
      "  clsname, change_or_name), DeprecationWarning)\n",
      "/Users/je714/anaconda/envs/md_analysis/lib/python3.4/site-packages/IPython/core/formatters.py:98: DeprecationWarning: DisplayFormatter._formatters_default is deprecated: use @default decorator instead.\n",
      "  def _formatters_default(self):\n",
      "/Users/je714/anaconda/envs/md_analysis/lib/python3.4/site-packages/IPython/core/formatters.py:677: DeprecationWarning: PlainTextFormatter._deferred_printers_default is deprecated: use @default decorator instead.\n",
      "  def _deferred_printers_default(self):\n",
      "/Users/je714/anaconda/envs/md_analysis/lib/python3.4/site-packages/IPython/core/formatters.py:669: DeprecationWarning: PlainTextFormatter._singleton_printers_default is deprecated: use @default decorator instead.\n",
      "  def _singleton_printers_default(self):\n",
      "/Users/je714/anaconda/envs/md_analysis/lib/python3.4/site-packages/IPython/core/formatters.py:672: DeprecationWarning: PlainTextFormatter._type_printers_default is deprecated: use @default decorator instead.\n",
      "  def _type_printers_default(self):\n",
      "/Users/je714/anaconda/envs/md_analysis/lib/python3.4/site-packages/IPython/core/formatters.py:672: DeprecationWarning: PlainTextFormatter._type_printers_default is deprecated: use @default decorator instead.\n",
      "  def _type_printers_default(self):\n",
      "/Users/je714/anaconda/envs/md_analysis/lib/python3.4/site-packages/IPython/core/formatters.py:677: DeprecationWarning: PlainTextFormatter._deferred_printers_default is deprecated: use @default decorator instead.\n",
      "  def _deferred_printers_default(self):\n"
     ]
    }
   ],
   "source": [
    "from traj_loading import load_Trajs_generator\n",
    "import numpy as np\n",
    "import mdtraj as md\n",
    "from glob import glob\n",
    "import itertools\n",
    "import seaborn as sns\n",
    "from matplotlib import pyplot as plt\n",
    "%matplotlib inline"
   ]
  },
  {
   "cell_type": "markdown",
   "metadata": {},
   "source": [
    "Provide the topologies with glob expression.\n",
    "\n",
    "\n",
    "Provide the matching topology as a string."
   ]
  },
  {
   "cell_type": "code",
   "execution_count": 2,
   "metadata": {
    "collapsed": false
   },
   "outputs": [],
   "source": [
    "nc_file_list = sorted(glob(\n",
    "        \"/Users/je714/Troponin/IAN_Troponin/completehowarthcut/salted/ff14SB/run1/05*nc\"))\n",
    "topology = \"/Users/je714/Troponin/IAN_Troponin/completehowarthcut/salted/ff14SB/run1/WT-ff14SB_clean.prmtop\""
   ]
  },
  {
   "cell_type": "markdown",
   "metadata": {},
   "source": [
    "Provide two masks to check the contacts. 0 indexed residue ranges only.\n",
    "\n",
    "We generate a residue-residue pair list with `itertools.product()`."
   ]
  },
  {
   "cell_type": "code",
   "execution_count": 3,
   "metadata": {
    "collapsed": false
   },
   "outputs": [
    {
     "name": "stdout",
     "output_type": "stream",
     "text": [
      "Mask1 has 89 residues\n",
      "\n",
      "Mask2 has 41 residues\n",
      "\n",
      "Number of residue-residue interactions that will be considered: 3649\n",
      "\n"
     ]
    }
   ],
   "source": [
    "start1, end1 = 0, 88\n",
    "start2, end2 = 248, 288\n",
    "list1 = list(range(start1, end1 + 1))\n",
    "list2 = list(range(start2, end2 + 1))\n",
    "pairs = list(itertools.product(list1, list2))\n",
    "print('Mask1 has %d residues\\n' % (end1 - start1 + 1))\n",
    "print('Mask2 has %d residues\\n' % (end2 - start2 + 1))\n",
    "print('Number of residue-residue interactions that will be considered: %d\\n' % len(pairs))"
   ]
  },
  {
   "cell_type": "markdown",
   "metadata": {},
   "source": [
    "## Contact implementation using `md.compute_contacts`.\n",
    "\n",
    "It only allows for three types of contact definition. It gives much higher values than cpptraj unless really low values of distance are used as a cutoff."
   ]
  },
  {
   "cell_type": "code",
   "execution_count": 4,
   "metadata": {
    "collapsed": false,
    "scrolled": true
   },
   "outputs": [
    {
     "name": "stdout",
     "output_type": "stream",
     "text": [
      "The following topology file was succesfully loaded: \n",
      " <mdtraj.Topology with 1 chains, 422 residues, 6812 atoms, 6844 bonds> \n",
      "\n",
      "[   0    1    2 ..., 6809 6810 6811]\n",
      "The following topology file was succesfully loaded: \n",
      " <mdtraj.Topology with 1 chains, 422 residues, 6812 atoms, 6844 bonds> \n",
      "\n",
      "[   0    1    2 ..., 6809 6810 6811]\n",
      "The following topology file was succesfully loaded: \n",
      " <mdtraj.Topology with 1 chains, 422 residues, 6812 atoms, 6844 bonds> \n",
      "\n",
      "[   0    1    2 ..., 6809 6810 6811]\n",
      "Number of analyzed frames: 2500\n",
      "\n",
      "Aggregate simulation time: 250 ns\n",
      "\n",
      "[[ 0.4776  0.4812  0.5424 ...,  1.      1.      1.    ]\n",
      " [ 0.5164  0.5608  0.6604 ...,  1.      1.      1.    ]\n",
      " [ 0.5228  0.572   0.6568 ...,  1.      1.      1.    ]\n",
      " ..., \n",
      " [ 0.724   0.7236  0.7324 ...,  1.      1.      1.    ]\n",
      " [ 0.6448  0.6368  0.648  ...,  1.      1.      1.    ]\n",
      " [ 0.5284  0.5144  0.4896 ...,  1.      1.      1.    ]]\n"
     ]
    }
   ],
   "source": [
    "stride = 5\n",
    "chunk = 100\n",
    "trajs_generator= load_Trajs_generator(trajfiles_list=nc_file_list,\n",
    "                                      prmtop_file=topology, stride=stride, chunk=chunk)\n",
    "frequency = np.zeros((len(list1), len(list2)))\n",
    "count = 0 # Keep the frame count\n",
    "\n",
    "for traj_chunk in trajs_generator:\n",
    "    count += traj_chunk.n_frames\n",
    "    distances_inChunk = md.compute_contacts(traj_chunk, pairs, scheme = 'ca')\n",
    "    column_sum = (distances_inChunk[0] <= 4).sum(0) # Sum by column\n",
    "    frequency += column_sum.reshape(len(list1), len(list2)) # Sum the partial result to frequency\n",
    "\n",
    "contact_frequency = frequency / count # Total contact value for each residue-residue pair. From 0 to 1.\n",
    "\n",
    "print('Number of analyzed frames: %d\\n' % count)\n",
    "print('Aggregate simulation time: %2.f ns\\n' % (count * 0.02 * stride))\n",
    "print(contact_frequency)"
   ]
  },
  {
   "cell_type": "markdown",
   "metadata": {},
   "source": [
    "Let's try to make a heat map..."
   ]
  },
  {
   "cell_type": "code",
   "execution_count": 5,
   "metadata": {
    "collapsed": false
   },
   "outputs": [],
   "source": [
    "def plot_heatmap(array):\n",
    "    plt.figure(figsize=(10,10), dpi=900)\n",
    "    ax = sns.heatmap(contact_frequency,\n",
    "                    vmin=0, vmax=1,\n",
    "                    xticklabels=list2,\n",
    "                    yticklabels=list1,\n",
    "                    annot=False)\n",
    "    ax.invert_yaxis()\n",
    "    sns.plt.show()"
   ]
  },
  {
   "cell_type": "code",
   "execution_count": 6,
   "metadata": {
    "collapsed": false
   },
   "outputs": [
    {
     "name": "stderr",
     "output_type": "stream",
     "text": [
      "/Users/je714/anaconda/envs/md_analysis/lib/python3.4/site-packages/IPython/core/formatters.py:92: DeprecationWarning: DisplayFormatter._ipython_display_formatter_default is deprecated: use @default decorator instead.\n",
      "  def _ipython_display_formatter_default(self):\n",
      "/Users/je714/anaconda/envs/md_analysis/lib/python3.4/site-packages/IPython/core/formatters.py:669: DeprecationWarning: PlainTextFormatter._singleton_printers_default is deprecated: use @default decorator instead.\n",
      "  def _singleton_printers_default(self):\n"
     ]
    },
    {
     "data": {
      "image/png": "[encoded data removed]",
      "text/plain": [
       "<matplotlib.figure.Figure at 0x10f5b7278>"
      ]
     },
     "metadata": {},
     "output_type": "display_data"
    }
   ],
   "source": [
    "plot_heatmap(contact_frequency)"
   ]
  },
  {
   "cell_type": "markdown",
   "metadata": {},
   "source": [
    "## Manual implementation of contacts\n",
    "Let's try to define a contact as Cheng et al.[1](http://www.sciencedirect.com/science/article/pii/S0006349514008510), which in turn get the definition from Wang et al.[2](http://www.ncbi.nlm.nih.gov/pubmed/23454346).\n",
    "\n",
    "\n",
    "\"Contacts between residues were identified, where the distance between two carbon atoms was $\\leq$ 5.4 Å or any other non-carbon atoms were $\\leq$ 4.6 Å.\"\n",
    "\n",
    "We begin by adding a Cartesian product implementation for two numpy arrays. Extracted from [StackOverflow](http://stackoverflow.com/questions/11144513/numpy-cartesian-product-of-x-and-y-array-points-into-single-array-of-2d-points). We'll use it when computing the pairwise atoms to check the distance for in each residue-residue pair."
   ]
  },
  {
   "cell_type": "code",
   "execution_count": null,
   "metadata": {
    "collapsed": true
   },
   "outputs": [],
   "source": [
    "def cartesianProduct_npArrays(x,y):\n",
    "    return(np.transpose([np.tile(x, len(y)), np.repeat(y, len(x))]))"
   ]
  },
  {
   "cell_type": "code",
   "execution_count": null,
   "metadata": {
    "collapsed": false,
    "scrolled": true
   },
   "outputs": [
    {
     "name": "stdout",
     "output_type": "stream",
     "text": [
      "The following topology file was succesfully loaded: \n",
      " <mdtraj.Topology with 1 chains, 422 residues, 6812 atoms, 6844 bonds> \n",
      "\n",
      "[   0    1    2 ..., 6809 6810 6811]\n"
     ]
    }
   ],
   "source": [
    "top = md.load_prmtop(topology)\n",
    "stride = 5\n",
    "chunk = 100\n",
    "trajs_generator= load_Trajs_generator(trajfiles_list=nc_file_list,\n",
    "                                      prmtop_file=topology, stride=stride, chunk=chunk)\n",
    "frequency = np.zeros(len(pairs))\n",
    "count = 0 # Keep the frame count\n",
    "for traj_chunk in trajs_generator:\n",
    "    count += traj_chunk.n_frames\n",
    "    index=0 # To update the contact count for each residue-residue pair\n",
    "    for residue_pair in pairs:\n",
    "        # Atom selection for each residue in the pair\n",
    "        c_atoms_residue1 = top.select(\"resid %d and (type C)\" % residue_pair[0])\n",
    "        not_c_atoms_residue1 = top.select(\"resid %d and not type C\" % residue_pair[0])\n",
    "        c_atoms_residue2 = top.select(\"resid %d and type C\" % residue_pair[1])\n",
    "        not_c_atoms_residue2 = top.select(\"resid %d and not type C\" % residue_pair[1])\n",
    "        \n",
    "        # Calculate all the possible distances between the C-C atoms and the \n",
    "        # non C-C atoms. Results are stored in two np.arrays of shape:\n",
    "        # (traj_chunk.n_frames, c_atoms_residue1*c_atoms_residue2)\n",
    "        # (traj_chunk.n_frames, non_c_atoms_residue1*non_c_atoms_residue2)\n",
    "        c_atoms_dist = md.compute_distances(traj_chunk,\n",
    "                                            cartesianProduct_npArrays(c_atoms_residue1,\n",
    "                                                                      c_atoms_residue2))\n",
    "        not_c_atoms_dist = md.compute_distances(traj_chunk,\n",
    "                                                cartesianProduct_npArrays(not_c_atoms_residue1,\n",
    "                                                                          not_c_atoms_residue2))\n",
    "        # Implementation of the contact condition\n",
    "        if ((c_atoms_dist <= 5.4).sum(1).any() > 0) and ((not_c_atoms_dist <= 4.6).sum(1).any() > 0):\n",
    "            frequency[index] += 1\n",
    "        index += 1\n",
    "contact_frequency = (frequency/count).reshape(len(list1), len(list2))\n",
    "#        value = np.hstack((c_atoms_dist <= 5.4).sum(1))\n",
    "#        print(value.shape)\n",
    "plot_heatmap(contact_frequency)\n",
    "            \n",
    "        "
   ]
  },
  {
   "cell_type": "code",
   "execution_count": null,
   "metadata": {
    "collapsed": true
   },
   "outputs": [],
   "source": []
  },
  {
   "cell_type": "code",
   "execution_count": null,
   "metadata": {
    "collapsed": true
   },
   "outputs": [],
   "source": [
    "top"
   ]
  },
  {
   "cell_type": "code",
   "execution_count": null,
   "metadata": {
    "collapsed": true
   },
   "outputs": [],
   "source": []
  }
 ],
 "metadata": {
  "kernelspec": {
   "display_name": "Python 3",
   "language": "python",
   "name": "python3"
  },
  "language_info": {
   "codemirror_mode": {
    "name": "ipython",
    "version": 3
   },
   "file_extension": ".py",
   "mimetype": "text/x-python",
   "name": "python",
   "nbconvert_exporter": "python",
   "pygments_lexer": "ipython3",
   "version": "3.4.4"
  }
 },
 "nbformat": 4,
 "nbformat_minor": 0
}
